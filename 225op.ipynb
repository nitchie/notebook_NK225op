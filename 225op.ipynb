{
  "nbformat": 4,
  "nbformat_minor": 0,
  "metadata": {
    "colab": {
      "name": "225op.ipynb",
      "version": "0.3.2",
      "provenance": [],
      "include_colab_link": true
    },
    "kernelspec": {
      "name": "python3",
      "display_name": "Python 3"
    }
  },
  "cells": [
    {
      "cell_type": "markdown",
      "metadata": {
        "id": "view-in-github",
        "colab_type": "text"
      },
      "source": [
        "<a href=\"https://colab.research.google.com/github/nitchie/notebook_NK225op/blob/master/225op.ipynb\" target=\"_parent\"><img src=\"https://colab.research.google.com/assets/colab-badge.svg\" alt=\"Open In Colab\"/></a>"
      ]
    },
    {
      "metadata": {
        "id": "AA_6rvzuSgkr",
        "colab_type": "code",
        "colab": {}
      },
      "cell_type": "code",
      "source": [
        "\n",
        "import os\n",
        "import re\n",
        "import requests\n",
        "from bs4 import BeautifulSoup\n",
        "from google.colab import drive\n",
        "\n",
        "def debug_print(str):\n",
        "  print(str)\n",
        "  #pass\n",
        "\n",
        "#https://stackoverflow.com/questions/46986398/import-data-into-google-colaboratory\n",
        "drive.mount('/content/drive')\n",
        "\n",
        "storage_dir =  'drive/My Drive/225op/'\n",
        "\n",
        "page_urls = [\n",
        "    'https://www.jpx.co.jp/markets/derivatives/perticipant-volume/index.html'\n",
        "    ,'https://www.jpx.co.jp/markets/derivatives/perticipant-volume/archives-01.html'\n",
        "    ,'https://www.jpx.co.jp/markets/derivatives/perticipant-volume/archives-02.html'\n",
        "    ,'https://www.jpx.co.jp/markets/derivatives/perticipant-volume/archives-03.html'\n",
        "#    ,'https://www.jpx.co.jp/markets/derivatives/perticipant-volume/archives-11.html'\n",
        "]\n",
        "csvfile_list = []\n",
        "\n",
        "for page_url in page_urls:\n",
        "  soup = BeautifulSoup(requests.get(page_url).content,'html.parser')\n",
        "  elements = soup.find_all(href=re.compile(\"csv\"))\n",
        "  if not elements:\n",
        "    debug_print('page '+page_url+' is not found.')\n",
        "  for el in elements:\n",
        "    csv_url = el['href']\n",
        "    #/markets/derivatives/perticipant-volume/nlsgeu0000034wa2-att/20180531_volume_by_participant_night.csv\n",
        "    #/markets/derivatives/perticipant-volume/nlsgeu0000034wa2-att/20180531_volume_by_participant_night_J-NET.csv\n",
        "    #/markets/derivatives/perticipant-volume/nlsgeu0000034wa2-att/20180531_volume_by_participant_whole_day.csv\n",
        "    #/markets/derivatives/perticipant-volume/nlsgeu0000034wa2-att/20180531_volume_by_participant_whole_day_J-NET.csv\n",
        "    m = re.match(r'/markets/derivatives/perticipant-volume/.+/(.+)',csv_url)\n",
        "    if m:\n",
        "      csvfile = m[1]\n",
        "      csvfile_list = csvfile_list + [csvfile]\n",
        "      outfile = storage_dir+csvfile\n",
        "      \n",
        "      if not os.path.exists(outfile):\n",
        "          with open(outfile,'w') as f:\n",
        "            if f:\n",
        "                response = requests.get('https://www.jpx.co.jp'+csv_url)\n",
        "                f.write(response.text)\n",
        "                debug_print('save '+outfile)\n",
        "    #break\n",
        "    \n"
      ],
      "execution_count": 0,
      "outputs": []
    },
    {
      "metadata": {
        "id": "6-YXkwMJad3W",
        "colab_type": "code",
        "colab": {}
      },
      "cell_type": "code",
      "source": [
        "  import csv \n",
        "  \n",
        "  jpxcodes = {}\n",
        "  companys = {}\n",
        "  positions = {}\n",
        "  \n",
        "  for csvfile in csvfile_list:\n",
        "    with open(storage_dir+csvfile) as f:\n",
        "      if f:\n",
        "        lines = list(csv.reader(f))\n",
        "        jpxcode = ''\n",
        "        instrument = ''\n",
        "        tradedate = lines[1][3]\n",
        "        if re.search(r'\\d{8}',tradedate):\n",
        "          # debug_print(csvfile+\" \"+tradedate)\n",
        "          for line in lines:\n",
        "            if line:\n",
        "              if line[0] == 'JPX Code':\n",
        "                jpxcode = line[1]\n",
        "              elif line[0] == 'Instrument':\n",
        "                instrument = line[1]\n",
        "                jpxcodes[jpxcode] = instrument\n",
        "              else:\n",
        "                if re.search(r'^\\d+$',line[0]):\n",
        "                  company_code = line[0]\n",
        "                  company_name_j = line[1]\n",
        "                  company_name_e = line[2]\n",
        "                  volume = int(line[3])\n",
        "                  companys[company_code] = company_name_e\n",
        "                  if not instrument in positions:\n",
        "                    positions[instrument] = {}\n",
        "                  if not company_name_e in positions[instrument]:\n",
        "                    positions[instrument][company_name_e] = {'net':0,'long': 0,'short':0}\n",
        "                  positions[instrument][company_name_e]['long'] += volume\n",
        "                  positions[instrument][company_name_e]['net'] = positions[instrument][company_name_e]['long'] - positions[instrument][company_name_e]['short']\n",
        "                if len(line) > 4 and re.search(r'^\\d+$',line[4]):\n",
        "                  company_code = line[4]\n",
        "                  company_name_j = line[5]\n",
        "                  company_name_e = line[6]\n",
        "                  volume = int(line[7])\n",
        "                  if not company_name_e in positions[instrument]:\n",
        "                    positions[instrument][company_name_e] = {'net':0,'long': 0,'short':0}\n",
        "                  positions[instrument][company_name_e]['short'] += volume\n",
        "                  positions[instrument][company_name_e]['net'] = positions[instrument][company_name_e]['long'] - positions[instrument][company_name_e]['short']\n",
        "        else:\n",
        "          pass # show error\n"
      ],
      "execution_count": 0,
      "outputs": []
    },
    {
      "metadata": {
        "id": "zBbdIPUFhxFm",
        "colab_type": "code",
        "colab": {}
      },
      "cell_type": "code",
      "source": [
        "positions"
      ],
      "execution_count": 0,
      "outputs": []
    },
    {
      "metadata": {
        "id": "RMvsCvLFn48P",
        "colab_type": "code",
        "colab": {}
      },
      "cell_type": "code",
      "source": [
        "from pandas import DataFrame,Series\n",
        "DataFrame(positions)\n"
      ],
      "execution_count": 0,
      "outputs": []
    },
    {
      "metadata": {
        "id": "HAa5q1PfSmsW",
        "colab_type": "code",
        "colab": {}
      },
      "cell_type": "code",
      "source": [
        ""
      ],
      "execution_count": 0,
      "outputs": []
    }
  ]
}